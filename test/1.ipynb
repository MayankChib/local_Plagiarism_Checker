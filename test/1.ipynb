{
 "cells": [
  {
   "cell_type": "code",
   "execution_count": 19,
   "metadata": {},
   "outputs": [],
   "source": [
    "import os\n",
    "from sklearn.feature_extraction.text import TfidfVectorizer\n",
    "from sklearn.metrics.pairwise import cosine_similarity"
   ]
  },
  {
   "cell_type": "code",
   "execution_count": 20,
   "metadata": {},
   "outputs": [],
   "source": [
    "import os\n",
    "from sklearn.feature_extraction.text import TfidfVectorizer\n",
    "from sklearn.metrics.pairwise import cosine_similarity\n"
   ]
  },
  {
   "cell_type": "code",
   "execution_count": 21,
   "metadata": {},
   "outputs": [
    {
     "name": "stdout",
     "output_type": "stream",
     "text": [
      "['Artificial intelligence.txt', 'C#.txt', 'Compiler construction.txt']\n"
     ]
    }
   ],
   "source": [
    "file_Names = [i for i in os.listdir('/AIM/plagiarism/test/rr') if i.endswith ('.txt')]\n",
    "print(file_Names)"
   ]
  },
  {
   "cell_type": "code",
   "execution_count": 22,
   "metadata": {},
   "outputs": [
    {
     "name": "stdout",
     "output_type": "stream",
     "text": [
      "['Uploading Files with PHP\\nIn this tutorial we will  be converted to Text File using Python\\nUploading Files with PHP\\nsawa?\\nyeah', 'Uploading Files with PHP\\nremote jzjhzjhkzjk zxkxsxssdjhias sdjsdjksdjklsdjk sdsdjk\\nbKznmznm hii in one text file na pia niweke\\n', 'Uploading Files with PHP\\nIn this tutorial we will learn how to upload files on remote server using a Simple HTML form and PHP. You can upload any kind of file like images, videos, ZIP files, Microsoft Office documents, PDFs, as well as executables files and a wide range of other file types.']\n"
     ]
    }
   ],
   "source": [
    "file_Notes = [open('/AIM/plagiarism/test/rr/'+data,encoding='utf-8').read() for data in file_Names]\n",
    "print(file_Notes)"
   ]
  },
  {
   "cell_type": "code",
   "execution_count": 23,
   "metadata": {},
   "outputs": [],
   "source": [
    "def vectorize(text):\n",
    "    return TfidfVectorizer().fit_transform(text).toarray()"
   ]
  },
  {
   "cell_type": "code",
   "execution_count": 24,
   "metadata": {},
   "outputs": [],
   "source": [
    "def similarity(doc1,doc2):\n",
    "    return cosine_similarity([doc1,doc2])"
   ]
  },
  {
   "cell_type": "code",
   "execution_count": 25,
   "metadata": {},
   "outputs": [
    {
     "name": "stdout",
     "output_type": "stream",
     "text": [
      "[[0.         0.         0.         0.25542397 0.         0.\n",
      "  0.25542397 0.         0.         0.15085751 0.30171503 0.\n",
      "  0.         0.         0.         0.         0.15085751 0.\n",
      "  0.         0.         0.         0.         0.         0.\n",
      "  0.         0.         0.         0.         0.         0.\n",
      "  0.30171503 0.         0.25542397 0.         0.         0.25542397\n",
      "  0.         0.         0.         0.         0.19425652 0.19425652\n",
      "  0.19425652 0.19425652 0.         0.         0.30171503 0.19425652\n",
      "  0.         0.19425652 0.         0.         0.19425652 0.30171503\n",
      "  0.25542397 0.         0.         0.        ]\n",
      " [0.         0.         0.         0.         0.27472358 0.\n",
      "  0.         0.         0.         0.16225617 0.16225617 0.\n",
      "  0.27472358 0.         0.         0.         0.16225617 0.27472358\n",
      "  0.         0.         0.         0.         0.27472358 0.27472358\n",
      "  0.         0.         0.         0.27472358 0.         0.\n",
      "  0.16225617 0.27472358 0.         0.         0.20893437 0.\n",
      "  0.27472358 0.27472358 0.         0.         0.20893437 0.\n",
      "  0.         0.         0.         0.         0.16225617 0.\n",
      "  0.         0.         0.         0.         0.         0.16225617\n",
      "  0.         0.         0.         0.27472358]\n",
      " [0.2709959  0.13549795 0.2709959  0.         0.         0.13549795\n",
      "  0.         0.13549795 0.13549795 0.16005455 0.32010909 0.13549795\n",
      "  0.         0.13549795 0.13549795 0.13549795 0.08002727 0.\n",
      "  0.13549795 0.13549795 0.13549795 0.13549795 0.         0.\n",
      "  0.2709959  0.13549795 0.13549795 0.         0.13549795 0.13549795\n",
      "  0.16005455 0.         0.         0.13549795 0.10304969 0.\n",
      "  0.         0.         0.13549795 0.13549795 0.         0.10304969\n",
      "  0.10304969 0.10304969 0.13549795 0.2709959  0.08002727 0.10304969\n",
      "  0.13549795 0.10304969 0.13549795 0.13549795 0.10304969 0.08002727\n",
      "  0.         0.13549795 0.13549795 0.        ]]\n"
     ]
    }
   ],
   "source": [
    "vectors = vectorize(file_Notes)\n",
    "print(vectors)"
   ]
  },
  {
   "cell_type": "code",
   "execution_count": 26,
   "metadata": {},
   "outputs": [
    {
     "name": "stdout",
     "output_type": "stream",
     "text": [
      "[('Artificial intelligence.txt', array([0.        , 0.        , 0.        , 0.25542397, 0.        ,\n",
      "       0.        , 0.25542397, 0.        , 0.        , 0.15085751,\n",
      "       0.30171503, 0.        , 0.        , 0.        , 0.        ,\n",
      "       0.        , 0.15085751, 0.        , 0.        , 0.        ,\n",
      "       0.        , 0.        , 0.        , 0.        , 0.        ,\n",
      "       0.        , 0.        , 0.        , 0.        , 0.        ,\n",
      "       0.30171503, 0.        , 0.25542397, 0.        , 0.        ,\n",
      "       0.25542397, 0.        , 0.        , 0.        , 0.        ,\n",
      "       0.19425652, 0.19425652, 0.19425652, 0.19425652, 0.        ,\n",
      "       0.        , 0.30171503, 0.19425652, 0.        , 0.19425652,\n",
      "       0.        , 0.        , 0.19425652, 0.30171503, 0.25542397,\n",
      "       0.        , 0.        , 0.        ])), ('C#.txt', array([0.        , 0.        , 0.        , 0.        , 0.27472358,\n",
      "       0.        , 0.        , 0.        , 0.        , 0.16225617,\n",
      "       0.16225617, 0.        , 0.27472358, 0.        , 0.        ,\n",
      "       0.        , 0.16225617, 0.27472358, 0.        , 0.        ,\n",
      "       0.        , 0.        , 0.27472358, 0.27472358, 0.        ,\n",
      "       0.        , 0.        , 0.27472358, 0.        , 0.        ,\n",
      "       0.16225617, 0.27472358, 0.        , 0.        , 0.20893437,\n",
      "       0.        , 0.27472358, 0.27472358, 0.        , 0.        ,\n",
      "       0.20893437, 0.        , 0.        , 0.        , 0.        ,\n",
      "       0.        , 0.16225617, 0.        , 0.        , 0.        ,\n",
      "       0.        , 0.        , 0.        , 0.16225617, 0.        ,\n",
      "       0.        , 0.        , 0.27472358])), ('Compiler construction.txt', array([0.2709959 , 0.13549795, 0.2709959 , 0.        , 0.        ,\n",
      "       0.13549795, 0.        , 0.13549795, 0.13549795, 0.16005455,\n",
      "       0.32010909, 0.13549795, 0.        , 0.13549795, 0.13549795,\n",
      "       0.13549795, 0.08002727, 0.        , 0.13549795, 0.13549795,\n",
      "       0.13549795, 0.13549795, 0.        , 0.        , 0.2709959 ,\n",
      "       0.13549795, 0.13549795, 0.        , 0.13549795, 0.13549795,\n",
      "       0.16005455, 0.        , 0.        , 0.13549795, 0.10304969,\n",
      "       0.        , 0.        , 0.        , 0.13549795, 0.13549795,\n",
      "       0.        , 0.10304969, 0.10304969, 0.10304969, 0.13549795,\n",
      "       0.2709959 , 0.08002727, 0.10304969, 0.13549795, 0.10304969,\n",
      "       0.13549795, 0.13549795, 0.10304969, 0.08002727, 0.        ,\n",
      "       0.13549795, 0.13549795, 0.        ]))]\n"
     ]
    }
   ],
   "source": [
    "s_vector = list(zip(file_Names,vectors))\n",
    "print(s_vector)"
   ]
  },
  {
   "cell_type": "code",
   "execution_count": 27,
   "metadata": {},
   "outputs": [],
   "source": [
    "pg_Results = set()"
   ]
  },
  {
   "cell_type": "code",
   "execution_count": 28,
   "metadata": {},
   "outputs": [],
   "source": [
    "def check_Pg1():\n",
    "    global vectors\n",
    "    for a1,a2 in s_vector:\n",
    "        new = s_vector.copy()\n",
    "        index = new.index((a1,a2))\n",
    "        del new[index]\n",
    "        for z1,z2 in new:\n",
    "            s_score = similarity(a2,z2)[0][1]\n",
    "            pair = sorted((a1,z1))\n",
    "            score = (pair[0],pair[1],s_score)\n",
    "            pg_Results.add(score)\n",
    "    return pg_Results"
   ]
  },
  {
   "cell_type": "code",
   "execution_count": 29,
   "metadata": {},
   "outputs": [
    {
     "name": "stdout",
     "output_type": "stream",
     "text": [
      "('Artificial intelligence.txt', 'Compiler construction.txt', 0.3494900307561332)\n",
      "('Artificial intelligence.txt', 'C#.txt', 0.285362490767736)\n",
      "('C#.txt', 'Compiler construction.txt', 0.16436473092607773)\n"
     ]
    }
   ],
   "source": [
    "for data in check_Pg1():\n",
    "    print(data)"
   ]
  },
  {
   "cell_type": "code",
   "execution_count": 13,
   "metadata": {},
   "outputs": [
    {
     "name": "stdout",
     "output_type": "stream",
     "text": [
      "[('Artificial intelligence.txt', 'Compiler construction.txt', 0.3494900307561332), ('Artificial intelligence.txt', 'C#.txt', 0.285362490767736), ('C#.txt', 'Compiler construction.txt', 0.16436473092607773)]\n"
     ]
    }
   ],
   "source": [
    "li = []\n",
    "for i in check_Pg1():\n",
    "    li.append(i)\n",
    "print(li)"
   ]
  },
  {
   "cell_type": "code",
   "execution_count": 14,
   "metadata": {},
   "outputs": [
    {
     "name": "stdout",
     "output_type": "stream",
     "text": [
      "['Artificial intelligence.txt', 'C#.txt', 'Compiler construction.txt']\n"
     ]
    }
   ],
   "source": [
    "print(file_Names)"
   ]
  },
  {
   "cell_type": "code",
   "execution_count": 30,
   "metadata": {},
   "outputs": [
    {
     "name": "stdout",
     "output_type": "stream",
     "text": [
      "('Artificial intelligence.txt', 'Compiler construction.txt', 0.3494900307561332)\n",
      "('Artificial intelligence.txt', 'C#.txt', 0.285362490767736)\n",
      "('C#.txt', 'Compiler construction.txt', 0.16436473092607773)\n"
     ]
    }
   ],
   "source": [
    "for i in range(len(li)):\n",
    "    print(li[i])"
   ]
  },
  {
   "cell_type": "code",
   "execution_count": 16,
   "metadata": {},
   "outputs": [
    {
     "name": "stdout",
     "output_type": "stream",
     "text": [
      "('Artificial intelligence.txt', 'Compiler construction.txt', 0.3494900307561332)\n",
      "nothing\n",
      "('Artificial intelligence.txt', 'C#.txt', 0.285362490767736)\n",
      "nothing\n",
      "('C#.txt', 'Compiler construction.txt', 0.16436473092607773)\n",
      "nothing\n",
      "('Artificial intelligence.txt', 'Compiler construction.txt', 0.3494900307561332)\n",
      "nothing\n",
      "('Artificial intelligence.txt', 'C#.txt', 0.285362490767736)\n",
      "nothing\n",
      "('C#.txt', 'Compiler construction.txt', 0.16436473092607773)\n",
      "nothing\n",
      "('Artificial intelligence.txt', 'Compiler construction.txt', 0.3494900307561332)\n",
      "nothing\n",
      "('Artificial intelligence.txt', 'C#.txt', 0.285362490767736)\n",
      "nothing\n",
      "('C#.txt', 'Compiler construction.txt', 0.16436473092607773)\n",
      "nothing\n"
     ]
    }
   ],
   "source": [
    "for i in range(len(file_Names)):\n",
    "    sum = 0\n",
    "    for j in pg_Results:\n",
    "        print(j)\n",
    "        if file_Names[i] == j:\n",
    "            print(file_Names[i],j)\n",
    "        else:\n",
    "            print('nothing')"
   ]
  },
  {
   "cell_type": "code",
   "execution_count": 31,
   "metadata": {},
   "outputs": [],
   "source": [
    "dr = {}"
   ]
  },
  {
   "cell_type": "code",
   "execution_count": 32,
   "metadata": {},
   "outputs": [
    {
     "name": "stdout",
     "output_type": "stream",
     "text": [
      "Artificial intelligence.txt ('Artificial intelligence.txt', 'Compiler construction.txt', 0.3494900307561332)\n",
      "0.3494900307561332\n",
      "Artificial intelligence.txt ('Artificial intelligence.txt', 'C#.txt', 0.285362490767736)\n",
      "0.285362490767736\n",
      "C#.txt ('Artificial intelligence.txt', 'C#.txt', 0.285362490767736)\n",
      "0.285362490767736\n",
      "C#.txt ('C#.txt', 'Compiler construction.txt', 0.16436473092607773)\n",
      "0.16436473092607773\n",
      "Compiler construction.txt ('Artificial intelligence.txt', 'Compiler construction.txt', 0.3494900307561332)\n",
      "0.3494900307561332\n",
      "Compiler construction.txt ('C#.txt', 'Compiler construction.txt', 0.16436473092607773)\n",
      "0.16436473092607773\n"
     ]
    }
   ],
   "source": [
    "for i in range(len(file_Names)):\n",
    "    sum=0\n",
    "    flag = 0\n",
    "    for j in range(len(li)):\n",
    "        if file_Names[i] in li[j]:\n",
    "            print(file_Names[i],li[j])\n",
    "            for k in li[j]:\n",
    "                if isinstance(k,float):\n",
    "                    print(k)\n",
    "                    sum +=k\n",
    "                    flag += 1  \n",
    "    dr[file_Names[i]]=int(sum/flag*100)           \n",
    "\n"
   ]
  },
  {
   "cell_type": "code",
   "execution_count": 163,
   "metadata": {},
   "outputs": [
    {
     "name": "stdout",
     "output_type": "stream",
     "text": [
      "{'Artificial intelligence.txt': 0.6348525215238692, 'C#.txt': 0.44972722169381374, 'Compiler construction.txt': 0.5138547616822109}\n"
     ]
    }
   ],
   "source": [
    "print(dr)"
   ]
  },
  {
   "cell_type": "code",
   "execution_count": 169,
   "metadata": {},
   "outputs": [
    {
     "name": "stdout",
     "output_type": "stream",
     "text": [
      "{'Artificial intelligence.txt': 0.3174262607619346, 'C#.txt': 0.22486361084690687, 'Compiler construction.txt': 0.25692738084110545}\n"
     ]
    }
   ],
   "source": [
    "print(dr)"
   ]
  },
  {
   "cell_type": "code",
   "execution_count": 171,
   "metadata": {},
   "outputs": [
    {
     "name": "stdout",
     "output_type": "stream",
     "text": [
      "{'Artificial intelligence.txt': 31, 'C#.txt': 22, 'Compiler construction.txt': 25}\n"
     ]
    }
   ],
   "source": [
    "print(dr)"
   ]
  },
  {
   "cell_type": "markdown",
   "metadata": {},
   "source": []
  },
  {
   "cell_type": "code",
   "execution_count": 33,
   "metadata": {},
   "outputs": [
    {
     "name": "stdout",
     "output_type": "stream",
     "text": [
      "Artificial intelligence.txt\n",
      "Compiler construction.txt\n",
      "0.3494900307561332\n",
      "Artificial intelligence.txt\n",
      "C#.txt\n",
      "0.285362490767736\n",
      "C#.txt\n",
      "Compiler construction.txt\n",
      "0.16436473092607773\n"
     ]
    }
   ],
   "source": [
    "for i in pg_Results:\n",
    "    for j in i:\n",
    "        print(j)"
   ]
  },
  {
   "cell_type": "code",
   "execution_count": null,
   "metadata": {},
   "outputs": [],
   "source": []
  }
 ],
 "metadata": {
  "kernelspec": {
   "display_name": ".venv",
   "language": "python",
   "name": "python3"
  },
  "language_info": {
   "codemirror_mode": {
    "name": "ipython",
    "version": 3
   },
   "file_extension": ".py",
   "mimetype": "text/x-python",
   "name": "python",
   "nbconvert_exporter": "python",
   "pygments_lexer": "ipython3",
   "version": "3.11.3"
  },
  "orig_nbformat": 4
 },
 "nbformat": 4,
 "nbformat_minor": 2
}
